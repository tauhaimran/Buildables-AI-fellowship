{
 "cells": [
  {
   "cell_type": "markdown",
   "id": "cbc6ec23",
   "metadata": {},
   "source": [
    "\n",
    "**Tauha Imran** | _Buildables AI Fellowship – Week 1_  \n",
    "\n",
    "[LinkedIn](https://www.linkedin.com/in/tauha-imran-6185b3280/) · [GitHub](https://github.com/tauhaimran) · [Portfolio](https://tauhaimran.github.io/)  \n",
    "\n",
    "---"
   ]
  },
  {
   "cell_type": "code",
   "execution_count": null,
   "id": "ad9037eb",
   "metadata": {},
   "outputs": [],
   "source": [
    "#installing groq package\n",
    "!pip install groq"
   ]
  },
  {
   "cell_type": "code",
   "execution_count": null,
   "id": "89eb211d",
   "metadata": {},
   "outputs": [],
   "source": [
    "# .ipynb has been updloaded to github\n",
    "# API key in .env file \n",
    "# .env file is in .gitignore file , hence not uploaded to github\n",
    "# API key is also not shared here for security reasons\n",
    "# help.txt file is also in .gitignore file , hence not uploaded to github\n",
    "# help.txt file contains the code to read .env file and print the API key"
   ]
  }
 ],
 "metadata": {
  "kernelspec": {
   "display_name": "Python 3",
   "language": "python",
   "name": "python3"
  },
  "language_info": {
   "codemirror_mode": {
    "name": "ipython",
    "version": 3
   },
   "file_extension": ".py",
   "mimetype": "text/x-python",
   "name": "python",
   "nbconvert_exporter": "python",
   "pygments_lexer": "ipython3",
   "version": "3.13.7"
  }
 },
 "nbformat": 4,
 "nbformat_minor": 5
}
