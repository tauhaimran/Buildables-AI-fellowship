{
 "cells": [
  {
   "cell_type": "markdown",
   "id": "cbc6ec23",
   "metadata": {},
   "source": [
    "\n",
    "**Tauha Imran** | _Buildables AI Fellowship – Week 1_  \n",
    "\n",
    "[LinkedIn](https://www.linkedin.com/in/tauha-imran-6185b3280/) · [GitHub](https://github.com/tauhaimran) · [Portfolio](https://tauhaimran.github.io/)  \n",
    "\n",
    "---"
   ]
  },
  {
   "cell_type": "markdown",
   "id": "d6da6def",
   "metadata": {},
   "source": []
  }
 ],
 "metadata": {
  "language_info": {
   "name": "python"
  }
 },
 "nbformat": 4,
 "nbformat_minor": 5
}
