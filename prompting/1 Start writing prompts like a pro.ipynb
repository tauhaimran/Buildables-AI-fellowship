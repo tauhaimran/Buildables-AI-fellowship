{
 "cells": [
  {
   "cell_type": "markdown",
   "id": "ba24aab2",
   "metadata": {},
   "source": [
    "# ✨ Start Writing Prompts Like a Pro 😎 ✨"
   ]
  },
  {
   "cell_type": "markdown",
   "id": "7ab7e1c7",
   "metadata": {},
   "source": [
    "Looking for a reliable formula to craft effective prompts? I’ve got you covered with a simple 5-step prompting framework you can apply across different tools and models. And if your first attempt doesn’t hit the mark — no problem! That’s part of the learning process. You’ll discover how to assess, refine, and iterate until you get the results you want."
   ]
  },
  {
   "cell_type": "markdown",
   "id": "0c30e0e2",
   "metadata": {},
   "source": [
    "---"
   ]
  },
  {
   "cell_type": "markdown",
   "id": "343f8dd8",
   "metadata": {},
   "source": [
    "## **Use the 5-step prompt framework**"
   ]
  },
  {
   "cell_type": "markdown",
   "id": "dfcfdc78",
   "metadata": {},
   "source": [
    "A good prompt follows a simple framework:\n",
    "\n",
    "**Task -> Context -> References -> Evaluate -> Iterate**\n",
    "\n",
    "If you ever forget a step, just remember ->  Thoughtfully, Create, Really, Excellent, Inputs."
   ]
  },
  {
   "cell_type": "markdown",
   "id": "ab642b8b",
   "metadata": {},
   "source": [
    "### Step 1: First Task"
   ]
  },
  {
   "cell_type": "markdown",
   "id": "f4c432b2",
   "metadata": {},
   "source": [
    "You need to clearly describe the task you want the AI to help with. To make it specific, include two things: **a persona** and a **format**.\n",
    "\n",
    "* **Persona** means the role or expertise you want the AI to use—for example, a professional speechwriter, a marketing executive with 15 years of experience, or someone writing for your manager or customer. The more detail you add, the better.\n",
    "* **Format** means how you want the answer to look—like a bulleted list, short sentences, or a table.\n",
    "\n",
    "That’s it—define the task with a persona and a format.\n"
   ]
  },
  {
   "cell_type": "markdown",
   "id": "5caf4639",
   "metadata": {},
   "source": [
    "### Step 2: Second Task"
   ]
  },
  {
   "cell_type": "markdown",
   "id": "1a963def",
   "metadata": {},
   "source": [
    "Next, add **context or details** so the AI knows exactly what you need. That’s the difference between saying:\n",
    "\n",
    "* *“Give me some ideas for a birthday present under \\$30.”*\n",
    "  and\n",
    "* *“Give me five birthday gift ideas under \\$30 for a 29-year-old who loves winter sports and just switched from snowboarding to skiing.”*\n",
    "\n",
    "The second one works better because the extra details guide the AI to give more useful results.\n"
   ]
  },
  {
   "cell_type": "markdown",
   "id": "3c42bb66",
   "metadata": {},
   "source": [
    "### Step 3: Third Task"
   ]
  },
  {
   "cell_type": "markdown",
   "id": "16610332",
   "metadata": {},
   "source": [
    "Sometimes you’ll want to give the AI **references** it can use when creating its response. For example, if you’re asking for birthday gift ideas, you could share examples of presents you’ve given in the past. That way, the AI can suggest options that fit your style better.\n",
    "\n",
    "Of course, you won’t always have clear references—especially if you’re working on something abstract or just looking for fresh ideas."
   ]
  },
  {
   "cell_type": "markdown",
   "id": "bd028b31",
   "metadata": {},
   "source": [
    "### Step 4: Fourth Task"
   ]
  },
  {
   "cell_type": "markdown",
   "id": "958ab278",
   "metadata": {},
   "source": [
    "Once you get the output, it’s time to **evaluate it**. Ask yourself: *Did my input give me the result I wanted?* If not, adjust your prompt and try again. This brings us to the final step of the framework.\n"
   ]
  },
  {
   "cell_type": "markdown",
   "id": "58584c34",
   "metadata": {},
   "source": [
    "### Step 5: Fifth Task"
   ]
  },
  {
   "cell_type": "markdown",
   "id": "6a146dc0",
   "metadata": {},
   "source": [
    "**Iterate.** If the output isn’t what you need, refine your prompt—add more details, reword it, or adjust the format. Iteration is a core skill in effective prompting, and we’ll dive deeper into it later in the course."
   ]
  },
  {
   "cell_type": "markdown",
   "id": "1980f96d",
   "metadata": {},
   "source": [
    "There are plenty of ways to construct an effective prompt. The order of how you construct a prompt is less important than this substance of the prompt itself. As long as you're thoughtfully creating, really, excellent inputs, your outputs should be great."
   ]
  },
  {
   "cell_type": "markdown",
   "id": "baf94112",
   "metadata": {},
   "source": [
    "---"
   ]
  },
  {
   "cell_type": "markdown",
   "id": "636b9f82",
   "metadata": {},
   "source": [
    "## **Put the prompt framework into action**"
   ]
  },
  {
   "cell_type": "markdown",
   "id": "11668603",
   "metadata": {},
   "source": [
    "Let’s put the framework into practice. We’ll start by logging into GPT and then use it to brainstorm ideas for a new startup."
   ]
  },
  {
   "cell_type": "markdown",
   "metadata": {},
   "source": [
    "### Step 1: Add the Task\n",
    "\n",
    "We’ll start simple. Let’s ask Gemini to brainstorm startup ideas.\n",
    "\n",
    "**Prompt:**\n",
    "\n",
    "```\n",
    "Generate five ideas for a new tech startup.\n",
    "```\n",
    "\n",
    "👉 This is only the task. It might work, but the output could be too broad and not very useful. Remember—good results come from thoughtful, detailed prompts."
   ]
  },
  {
   "cell_type": "markdown",
   "metadata": {},
   "source": [
    "### Step 2: Add Format\n",
    "\n",
    "Now let’s guide Gemini by telling it the format we want.\n",
    "\n",
    "**Prompt:**\n",
    "\n",
    "```\n",
    "You are a startup strategist.  \n",
    "Task: Generate five ideas for a new tech startup.  \n",
    "\n",
    "Format: Present each idea as an outline with:  \n",
    "1. Startup name  \n",
    "2. One-line description  \n",
    "3. Target customer  \n",
    "4. Key features (bulleted)  \n",
    "5. Revenue model  \n",
    "```\n",
    "\n",
    "👉 Much better—now we’ll get unique startup ideas organized in an easy-to-read outline."
   ]
  },
  {
   "cell_type": "markdown",
   "id": "6e15d77f",
   "metadata": {},
   "source": [
    "### Step 3: Add Context\n",
    "\n",
    "Next, let’s make the task more specific with context.\n",
    "\n",
    "**Prompt:**\n",
    "\n",
    "```\n",
    "You are a startup strategist.  \n",
    "Task: Generate five startup ideas in the health-tech space.  \n",
    "\n",
    "Context: The startups should be designed for young professionals who struggle with maintaining a healthy work-life balance.  \n",
    "\n",
    "Format: Present each idea in an outline with:  \n",
    "1. Startup name  \n",
    "2. One-line description  \n",
    "3. Target customer  \n",
    "4. Key features (bulleted)  \n",
    "5. Revenue model  \n",
    "```\n",
    "\n",
    "👉 With added context, Gemini creates startup ideas that are more aligned with our goals."
   ]
  },
  {
   "cell_type": "markdown",
   "id": "9be98fc9",
   "metadata": {},
   "source": [
    "### Step 4: Add References (Few-Shot Prompting)\n",
    "\n",
    "References help the AI learn from style, tone, or examples.\n",
    "\n",
    "**Prompt:**\n",
    "\n",
    "```\n",
    "You are a startup strategist.  \n",
    "Task: Refine five startup ideas in the health-tech space.  \n",
    "\n",
    "References:  \n",
    "1. Calm – a meditation app that focuses on simplicity and ease of use.  \n",
    "2. Headspace – a wellness app with guided programs and community features.  \n",
    "\n",
    "Format: Present each idea in an outline with:  \n",
    "1. Startup name  \n",
    "2. One-line description  \n",
    "3. Target customer  \n",
    "4. Key features (bulleted)  \n",
    "5. Revenue model  \n",
    "```\n",
    "\n",
    "👉 By giving references, Gemini will shape the output to be closer to what we want."
   ]
  },
  {
   "cell_type": "markdown",
   "id": "dc8cb6ef",
   "metadata": {},
   "source": [
    "### Step 5: Evaluate & Iterate\n",
    "\n",
    "Now we review the output. Ask: *Did this give me what I wanted?* If not, tweak the prompt. Maybe add more details, adjust the persona, or simplify the instructions.\n",
    "\n",
    "**Prompt (Iteration Example):**\n",
    "\n",
    "```\n",
    "You are a startup strategist.  \n",
    "Task: Generate five startup ideas in the health-tech space for young professionals.  \n",
    "Constraints: Each idea must be practical to launch with <$50,000 in seed funding.  \n",
    "\n",
    "Format: Present each idea in an outline with:  \n",
    "1. Startup name  \n",
    "2. One-line description  \n",
    "3. Target customer  \n",
    "4. Key features (bulleted)  \n",
    "5. Revenue model  \n",
    "6. Estimated first-year costs  \n",
    "```\n",
    "\n",
    "👉 Each iteration gets us closer to useful, high-quality results."
   ]
  },
  {
   "cell_type": "markdown",
   "id": "80b8ab3c",
   "metadata": {},
   "source": [
    "✅ And that’s the full **Prompting Framework in action:**\n",
    "\n",
    "1. Task\n",
    "2. Format\n",
    "3. Context\n",
    "4. References\n",
    "5. Evaluate & Iterate"
   ]
  },
  {
   "cell_type": "markdown",
   "id": "f2331855",
   "metadata": {},
   "source": [
    "---"
   ]
  },
  {
   "cell_type": "markdown",
   "id": "bebe9dd1",
   "metadata": {},
   "source": [
    "## **Shot Prompting Explained 🎯**"
   ]
  },
  {
   "cell_type": "markdown",
   "id": "06f91837",
   "metadata": {},
   "source": [
    "When working with generative AI, you’ll often hear the terms **zero-shot**, **one-shot**, and **few-shot prompting**. These describe how many **examples or references** you give the AI before asking it to generate an output.\n",
    "\n",
    "* **Zero-shot prompting ❌**\n",
    "\n",
    "  * You give the AI *no examples*, just instructions.\n",
    "  * Example:\n",
    "\n",
    "    ```\n",
    "    Write a product pitch for a fitness app.\n",
    "    ```\n",
    "  * ✅ Fast and simple, but outputs may be generic.\n",
    "\n",
    "* **One-shot prompting 🎯**\n",
    "\n",
    "  * You give the AI *one example* to follow.\n",
    "  * Example:\n",
    "\n",
    "    ```\n",
    "    Example pitch:  \n",
    "    \"Our app helps busy parents track meals and workouts in one place.\"  \n",
    "\n",
    "    Now write a pitch for a wellness app for college students.  \n",
    "    ```\n",
    "  * ✅ Useful when you want a specific style or structure.\n",
    "\n",
    "* **Few-shot prompting 🎯🎯**\n",
    "\n",
    "  * You give the AI *multiple examples* (usually 2–5).\n",
    "  * Example:\n",
    "\n",
    "    ```\n",
    "    Example pitch 1:  \n",
    "    \"An AI-powered tool that helps remote teams manage time zones.\"  \n",
    "\n",
    "    Example pitch 2:  \n",
    "    \"A budget travel app that finds affordable flights and stays.\"  \n",
    "\n",
    "    Now write three startup pitches for the health-tech space.  \n",
    "    ```\n",
    "  * ✅ Very effective—provides enough guidance without limiting creativity.\n",
    "\n",
    "\n",
    "👉 **Tip:** Between **two and five examples** usually works best. Too few, and the AI may not understand your style. Too many, and you risk narrowing its creativity."
   ]
  },
  {
   "cell_type": "markdown",
   "id": "b0cd99c5",
   "metadata": {},
   "source": [
    "---"
   ]
  },
  {
   "cell_type": "markdown",
   "id": "7a7a5f3e",
   "metadata": {},
   "source": [
    "As a quick reminder when crafting your prompts:\n",
    "\n",
    "- **T**houghtfully: Describe your **task**, specifying a **persona** and **format** preference.\n",
    "\n",
    "- **C**reate: Include any **context** the gen AI tool might need to give you what you want.\n",
    "\n",
    "- **R**eally: Add **references** the gen AI tool can use to inform its output.\n",
    "\n",
    "- **E**xcellent: Next, **evaluate** the output to identify opportunities for improvement. \n",
    "\n",
    "- **I**nputs: Then, **iterate** on your initial prompt to attain those improvements."
   ]
  },
  {
   "cell_type": "markdown",
   "id": "156cc3c1",
   "metadata": {},
   "source": [
    "## **Make better prompts — simple guide**\n",
    "\n",
    "1) <u>Start with the task</u>\n",
    "\n",
    "Say exactly what you want the AI to do. This is the foundation. Short examples:\n",
    "\n",
    "* “Write a list.”\n",
    "* “Draft a speech.”\n",
    "* “Create an image.”\n",
    "\n",
    "Be specific. Vague tasks = vague results.\n",
    "\n",
    "2) <u>Add a persona and format</u>\n",
    "\n",
    "* **Persona:** Tell the model what expertise or perspective to use (e.g., “You’re a movie critic,” or “You’re a startup strategist”).\n",
    "* **Format:** Say how the answer should be organized (bullets, table, one-paragraph, etc.).\n",
    "\n",
    "Example prompt structure:\n",
    "\n",
    "> You’re a movie critic who specializes in Italian film. Create a table of the best Italian films of the 1970s with genre, 100-word summary, director, and release year.\n",
    "\n",
    "3) <u>Give context (the details)</u>\n",
    "\n",
    "Context is background info that helps the model understand *why* you want something. Include goals, audience, constraints, or what you’ve tried before.\n",
    "\n",
    "Weak: “How was DNA discovered?”\n",
    "Better:\n",
    "\n",
    "> You’re a science professor designing an intro lecture. Explain how DNA was discovered in plain language for students who find science dry. Make it engaging and two short paragraphs.\n",
    "\n",
    "*Tip:* Context can be the longest part of your prompt.\n",
    "\n",
    "4) <u>Add references (use examples)</u>\n",
    "\n",
    "References are sample texts, images, or links that show tone, style, or structure you want.\n",
    "\n",
    "Best practices:\n",
    "\n",
    "* Use transitional phrases: “Refer to these examples:” or “Use the following samples:”\n",
    "* Label examples with headings.\n",
    "* Use XML-style tags or markdown blocks when including multiple examples.\n",
    "* Two to five references is usually ideal — enough guidance, not too restrictive.\n",
    "\n",
    "Example:\n",
    "\n",
    "```\n",
    "References:\n",
    "<example01>\n",
    "Our app helps busy parents track meals and workouts.\n",
    "</example01>\n",
    "\n",
    "<example02>\n",
    "A mindfulness app with short, guided sessions and progress tracking.\n",
    "</example02>\n",
    "```\n",
    "\n",
    "5) <u>Evaluate the output</u>\n",
    "\n",
    "Check AI results for accuracy, relevance, bias, and usefulness. Models vary — run outputs through a quick fact-check and quality check before using them.\n",
    "\n",
    "6) <u>Iterate (Always Be Iterating)</u>\n",
    "\n",
    "If the output isn’t right, tweak the prompt. Add details, change persona, simplify instructions, or change the format. Small changes often make big differences.\n",
    "\n",
    "### **Quick checklist to paste into prompts**\n",
    "\n",
    "* Task — what to do (one sentence)\n",
    "* Persona — who the AI should “be”\n",
    "* Format — how the output should look\n",
    "* Context — background, constraints, goals\n",
    "* References — 2–5 labeled examples (optional but powerful)\n",
    "* Evaluation plan — how you’ll check the output\n",
    "\n",
    "### **Example (startup prompt using everything above)**\n",
    "\n",
    "```\n",
    "You are a startup strategist with 8+ years advising early-stage health-tech companies.\n",
    "\n",
    "Task: Generate five health-tech startup ideas aimed at young professionals who struggle with work-life balance.\n",
    "\n",
    "Context: Ideas should be practical to start with <$50,000 seed funding and focus on improving daily routines and mental well-being.\n",
    "\n",
    "References:\n",
    "<example01>\n",
    "Calm – simple meditation app with short daily sessions.\n",
    "</example01>\n",
    "<example02>\n",
    "Headspace – structured programs and community features.\n",
    "</example02>\n",
    "\n",
    "Format: Present each idea as an outline:\n",
    "1. Name\n",
    "2. One-line summary\n",
    "3. Target customer\n",
    "4. Key features (bulleted)\n",
    "5. Revenue model\n",
    "6. Estimated first-year costs\n",
    "\n",
    "Constraints: Prioritize low initial build cost and clear paths to revenue.\n",
    "```"
   ]
  },
  {
   "cell_type": "markdown",
   "id": "795cef6b",
   "metadata": {},
   "source": [
    "---"
   ]
  },
  {
   "cell_type": "markdown",
   "id": "a54d6213",
   "metadata": {},
   "source": [
    "## Always Be Iterating (ABI) with Prompts\n",
    "\n",
    "There are gonna be times when your prompt simply isn't giving you what you want. But instead of scrapping all your work and starting again from zero, think about how you can  \n",
    "<u>**Always Be Iterating (ABI)**</u> to mold the outputs into something more useful.  \n",
    "\n",
    "### **1. Revisit the Prompting Framework**\n",
    "- Make sure you're providing enough **specificity** in your **task, context, and references**.\n",
    "- Example:  \n",
    "  ❌ *Give me five blog post ideas*  \n",
    "  ✅ *You are an expert on sports nutrition. Provide five blog post headlines that summarize the biggest trends happening in the industry for an audience of physical therapists working with professional basketball players.*\n",
    "\n",
    "### **2. Break Prompts into Shorter Sentences**\n",
    "- Take long inputs and break them into **smaller tasks**.  \n",
    "- Example of a long input:  \n",
    "  *Summarize the key data points and information in this report. Then create visual graphs from the data and shorten the key information into bullets.*\n",
    "- Better approach:  \n",
    "  1. *Summarize the key data points and information in this report.*  \n",
    "  2. *Create visual graphs with the data you summarized.*  \n",
    "  3. *Shorten the key information you summarized into bullets.*\n",
    "\n",
    "👉 Sometimes **shorter prompts yield more precise results** because the AI parses one task at a time.\n",
    "\n",
    "### **3. Try Different Phrasing or Analogous Tasks**\n",
    "- If your original phrasing isn’t working, **reframe the task**.  \n",
    "- Example:  \n",
    "  - ❌ *Write a marketing plan for a product or service*  \n",
    "  - ✅ *Write a story about how this product fits into the lives of our target customer demographic.*  \n",
    "\n",
    "This reframing encourages the AI to approach the task differently, often leading to more useful outputs.\n",
    "\n",
    "### **4. Introduce Constraints**\n",
    "- Adding **constraints** helps focus outputs.  \n",
    "- Example: *Making a playlist for a road trip.*  \n",
    "  - ❌ Context only: *I like this genre, suggest songs.*  \n",
    "  - ✅ With constraints: *Suggest artists from South Asia who have released music in the last five years.*  \n",
    "\n",
    "👉 Constraints make outputs more **unique and helpful**.\n",
    "\n",
    "### Key Takeaway\n",
    "The better you can **evaluate** and **iterate**, the better your AI-generated outputs will be. <u>**Always Be Iterating (ABI).**</u>\n"
   ]
  },
  {
   "cell_type": "markdown",
   "id": "022e42fd",
   "metadata": {},
   "source": [
    "---"
   ]
  },
  {
   "cell_type": "markdown",
   "id": "2f46de54",
   "metadata": {},
   "source": [
    "## **Generate better outputs through iteration**\n",
    "\n",
    "Even with the prompting framework to guide you, sometimes you may still get an output that misses the mark. That’s what iteration is for: to clarify and refine your prompt to better direct a generative AI tool towards the result you had in mind. But some types of iteration have the potential to be especially effective in breaking through creative blocks during prompt design, leading gen AI to new solutions and sharper output. \n",
    "\n",
    "To iterate most effectively, prompt your AI tool in the same chat. That way, the tool can reference information you've provided it with in previous prompts and build on that knowledge. \n",
    "\n",
    "**Example prompt**\n",
    "\n",
    "Here’s how iteration works in action. Consider this example prompt: \n",
    "\n",
    "> Identify the latest developments in the restaurant industry.\n",
    "\n",
    "It’s a simple prompt that only includes the task, and it might generate some broad insights, but chances are that you’ll need to iterate in order to get an output closer to what you want. You can try these four iteration methods to generate more useful outputs:\n",
    "\n",
    "### 1) Revisit the prompting framework\n",
    "\n",
    "Make sure your prompt is clear about your desired task and includes a specific persona and format, plenty of context, and offers relevant references that help inform the output. Here’s an example: \n",
    "\n",
    "> Create a bulleted list including the latest developments in the restaurant industry specific to urban areas that could impact the public reception of a dining experience using only ingredients native to the region. \n",
    "\n",
    "### 2) Break the prompt into shorter sentences\n",
    "\n",
    "Instead of packing everything into a complex and lengthy prompt, address each individual step in a separate prompt until you’ve accomplished everything:\n",
    "\n",
    "- **Prompt one:** Create a bulleted list including the latest developments in the restaurant industry.\n",
    "- **Prompt two:** Summarize the trends that would specifically impact restaurants in urban areas.\n",
    "- **Prompt three:** Write a pros and cons list on how those developments could impact the public reception of a dining experience using only ingredients native to the region.\n",
    "\n",
    "### 3) Tweak your phrasing or switch to an analogous task\n",
    "\n",
    "Shift your language to explain what you mean in a different way. Or, try a different task that’s similar to what you’re trying to complete but different enough to trigger a new response. Here’s an example:\n",
    "\n",
    "> I’m starting a restaurant that will only include produce from within 50 miles. You’re a diner that lives in a major city and keeps up with the latest restaurant trends. Write a list of questions that I should consider before opening up the restaurant.\n",
    "\n",
    "### 4) Introduce constraints\n",
    "\n",
    "Focus the gen AI tool’s output by adding constraints, or limitations, to your prompt. When you set boundaries for specific categories, lengths, formats, or other details in your prompt, you help the tool provide a more precise output. It’s like asking for a list of food recipes but specifying that the recipe should only use seasonal ingredients and take less than 30 minutes to prepare. Adding constraints can actually encourage more inventive, targeted results that better match your needs. Here’s an example:\n",
    "\n",
    "> Create a bulleted list including the latest developments in the restaurant industry specific to urban areas that could impact the public reception of a dining experience using only ingredients native to the region. This list should only include trends from cities with a population of more than 500,000 people, and should only include trends relevant to vegetarian and vegan restaurants.\n",
    "\n",
    "### Summary of the four methods\n",
    "\n",
    "- Revisit framework  \n",
    "- Shorten prompt  \n",
    "- Add constraints  \n",
    "- Tweak phrasing or switch to analogous task\n",
    "\n",
    "When providing guidance to a gen AI tool, it’s important to know the right direction to point it in. Whether you’re adhering more closely to the prompting framework, dividing a longer prompt into a few shorter ones, applying constraints, or re-phrasing your prompt as a similar task, iteration is the key to troubleshooting your prompt design and targeting the output you need."
   ]
  },
  {
   "cell_type": "markdown",
   "id": "e1e277ed",
   "metadata": {},
   "source": [
    "---"
   ]
  },
  {
   "cell_type": "markdown",
   "id": "de8d9a48",
   "metadata": {},
   "source": [
    "## **Images and visuals can be as important as words when you want to communicate ideas**\n",
    "\n",
    "Use generative AI tools to create visuals. So far, I've asked gen AI tools to produce responses in what's called a **text-based modality**. \n",
    "\n",
    "**Modalities** are the different formats in which gen AI tools receive or produce information — whether that's text, images, video, audio, or code. Different gen AI tools are better at working in certain modalities. Be sure to check the gen AI tool you're using to find out which modalities it's capable of using or producing. \n",
    "\n",
    "### - Image generation basics\n",
    "\n",
    "Some gen AI tools can create images — a sunrise 🌅, a bouquet of flowers 💐, or even a crab riding a dolphin 🦀🐬. But those same tools can also make images for a business or a professional presentation.  \n",
    "\n",
    "For example:  \n",
    "Maybe you're a musician 🎸 playing a gig in New Orleans and you want to promote your concert. You could use a gen AI tool to help you create a **poster** to advertise the show.  \n",
    "\n",
    "### - Prompting for text\n",
    "\n",
    "Let’s prompt the AI to create both text and images so we can discuss the subtle differences between prompting for each modality.  \n",
    "\n",
    "Start with text first. Remember the **thoughtfully, create, really, excellent, inputs framework**.  \n",
    "Text-based prompts work best when we **specify our task and add clear context**.  \n",
    "\n",
    "Example:  \n",
    "\n",
    "> Generate headlines for a poster promoting a rock concert in New Orleans.  \n",
    "> The concert is one night only, and the headlines should encourage the audience not to miss out.  \n",
    "\n",
    "💡 This guides the AI toward more relevant and catchy text-based outputs, like:  \n",
    "**“NOLA. This is it: Unforgettable Rock, One Night Only.”**\n",
    "\n",
    "### - Prompting for images\n",
    "\n",
    "Now, in order to prompt the AI for an **image**, we need to tweak our language.  \n",
    "\n",
    "We’ll still use the prompting framework, but we must provide more **vivid descriptions** that help the AI determine the type of image it needs to create. This means specifying:  \n",
    "- **Size**  \n",
    "- **Color**  \n",
    "- **Position of elements**  \n",
    "- **Overall aesthetic**  \n",
    "\n",
    "Example:  \n",
    "\n",
    "> Generate an image of an electric guitar for a poster.  \n",
    "> It should be a photographic style. The guitar should be glittery or sparkly ✨ and create a sense of excitement.  \n",
    "> The guitar should be in the foreground and give a sense that it's floating in the sky 🌌.  \n",
    "\n",
    "### - Iterating and refining images\n",
    "\n",
    "To make these images even better, you can **iterate and refine** your prompt:  \n",
    "\n",
    "Example refinement:  \n",
    "\n",
    "> Now, make the sky stormy ⛈️ with lightning ⚡ hitting the guitar.  \n",
    "\n",
    "By continuing to **evaluate and iterate**, you can keep adding relevant details from each new output until you get one that works perfectly.  \n",
    "\n",
    "✅ **Key takeaway:**  \n",
    "When prompting for images, **be specific, descriptive, and iterative**. Start with a clear task, then refine step by step until you achieve the desired result.\n"
   ]
  },
  {
   "cell_type": "markdown",
   "id": "a79619c4",
   "metadata": {},
   "source": [
    "---"
   ]
  },
  {
   "cell_type": "markdown",
   "id": "90ca44ac",
   "metadata": {},
   "source": [
    "## **Use Images, Documents, and More in Prompts**\n",
    "\n",
    "So far, we’ve focused on text prompts — but you can also use **other types of media** as part of your prompts. This is called **multimodal prompting**. It means combining different formats (like images, audio, or documents) with text to guide a generative AI tool.\n",
    "\n",
    "### **What is Multimodal Prompting?**\n",
    "\n",
    "Multimodal prompting is using **different types of input** together with text.  \n",
    "Examples include:  \n",
    "\n",
    "- 🖼️ **Images + Text:** Upload a chart and ask AI to explain the data in plain language.  \n",
    "- 🎨 **Design references:** Share different logo options and ask for more choices in similar styles.  \n",
    "- 🎧 **Audio + Text:** Upload an audio clip in another language and ask for a transcription or translation.  \n",
    "- 📄 **Documents:** Provide a schedule, floor plan, or report and ask AI to extract specific details.\n",
    "\n",
    "### Example 1: Marketing with Images\n",
    "\n",
    "Imagine you’re an entrepreneur selling **nail art designs**.  \n",
    "You can upload a photo of your nail art and prompt:  \n",
    "\n",
    "> “Write a social media post featuring this image. The posts should be fun, short, and highlight that it’s a collection of new designs I’m selling.”  \n",
    "\n",
    "The AI can analyze the image, then write captions that:  \n",
    "- Include emojis 🎉  \n",
    "- Engage followers with questions 💬  \n",
    "- Emphasize the “new designs” 🎨  \n",
    "\n",
    "### Example 2: Turning Schedules into Tables\n",
    "\n",
    "You’re attending a **conference** and want your team to focus on a few events. Upload a picture of the schedule and prompt:  \n",
    "\n",
    "> “Extract the times of the keynote speaker and two panel discussions from this schedule into a table.”  \n",
    "\n",
    "The AI can generate a clear, structured table with times and events. From there, you can even prompt it to **draft an email reminder** for your colleagues.\n",
    "\n",
    "### **Why It Works**\n",
    "\n",
    "Multimodal prompting reflects how we actually experience the world — by connecting **text, visuals, and sound** to build deeper understanding.  \n",
    "\n",
    "It can help you:  \n",
    "- Save time ⏳  \n",
    "- Extract insights 📊  \n",
    "- Generate creative ideas 💡  \n",
    "- Communicate more effectively ✨  \n",
    "\n",
    "### **Quick Tip**\n",
    "\n",
    "No matter which modality you use, always keep the **prompting framework** in mind:  \n",
    "- **Task** — What do you want?  \n",
    "- **Persona** — Who should the AI “be”?  \n",
    "- **Format** — How should the response look?  \n",
    "- **Context** — Why do you need it?  \n",
    "- **References** — What examples or inputs can you provide?  \n",
    "\n",
    "### 💭 **Reflection**\n",
    "How could **different modalities** (images, documents, or audio) help you in your own work?\n"
   ]
  },
  {
   "cell_type": "markdown",
   "id": "5cca94e1",
   "metadata": {},
   "source": [
    "---"
   ]
  },
  {
   "cell_type": "markdown",
   "id": "9eff692c",
   "metadata": {},
   "source": [
    "## **Using Generative AI Responsibly**\n",
    "\n",
    "Generative AI tools are powerful, but like any tool, they should be used thoughtfully and responsibly — especially in professional settings.  \n",
    "\n",
    "### 1. Align with Goals and Policies\n",
    "\n",
    "Before using gen AI, ask yourself:  \n",
    "- Does this task align with my goals, responsibilities, and obligations?  \n",
    "- Am I following my organization’s policies and any relevant local laws?  \n",
    "- Is gen AI the right tool for this job, or should I consider another approach?  \n",
    "\n",
    "If the answer is **no**, rethink how (or whether) to use AI for the task.  \n",
    "\n",
    "### 2. Protect Confidential and Personal Data\n",
    "\n",
    "- ✅ Check your company’s rules before entering **confidential or sensitive information**.  \n",
    "- ✅ Use enterprise or approved versions of tools when available.  \n",
    "- ❌ Avoid entering private personal data into **publicly available** tools.  \n",
    "- ✅ Always check how your data will be used or stored.  \n",
    "\n",
    "### 3. Evaluate Outputs for Accuracy\n",
    "\n",
    "Generative AI can produce:  \n",
    "- **Errors** — factual mistakes or incorrect details.  \n",
    "- **Hallucinations** — outputs that are inconsistent, nonsensical, or fabricated.  \n",
    "\n",
    "These often happen when prompts are vague or unclear. That’s why it’s crucial to:  \n",
    "- Fact-check and cross-reference information.  \n",
    "- Compare outputs against reliable sources.  \n",
    "- Maintain a **human-in-the-loop** approach, where a person always verifies before using the output.  \n",
    "\n",
    "### 4. Iterate Carefully\n",
    "\n",
    "Sometimes AI takes prompts too literally. For example, if you prompt for “cats on a rocket,” the tool might place cats on top of the rocket rather than inside. Iterating with **clearer instructions** can refine the result.  \n",
    "\n",
    "### 5. Watch for Bias\n",
    "\n",
    "Generative AI can unintentionally reflect stereotypes or unfair representations. To reduce bias:  \n",
    "- Write **specific, detailed prompts**.  \n",
    "- Use **inclusive language** that avoids stereotypes.  \n",
    "- Example: Instead of “serviceman” or “workman,” use “service person” or “worker.”  \n",
    "\n",
    "This ensures outputs are fair and inclusive of all backgrounds, genders, and ethnicities.  \n",
    "\n",
    "### **Key Takeaway**\n",
    "\n",
    "Generative AI is not a replacement for human judgment.  \n",
    "It cannot think critically or understand nuance.  \n",
    "\n",
    "Your role is to:  \n",
    "- Verify outputs 🕵️‍♀️  \n",
    "- Provide inclusive inputs 🤝  \n",
    "- Use AI ethically and responsibly 🌍  \n",
    "\n",
    "**AI is a tool — you provide the perspective.**  "
   ]
  },
  {
   "cell_type": "markdown",
   "id": "dc45b2c1",
   "metadata": {},
   "source": [
    "---"
   ]
  },
  {
   "cell_type": "markdown",
   "id": "4cedf5b7",
   "metadata": {},
   "source": [
    "## **Strategies to Mitigate AI Hallucinations**\n",
    "\n",
    "### What Are Hallucinations?  \n",
    "\n",
    "**Hallucinations** are AI outputs that don’t match reality.  \n",
    "- ✅ Useful in **creative contexts** (e.g., fiction, brainstorming).  \n",
    "- ❌ Problematic in **factual contexts** (e.g., research, analysis, reporting).  \n",
    "\n",
    "Sometimes hallucinations are **obvious and nonsensical**, but other times they are **subtly incorrect**, which makes them harder to catch.\n",
    "\n",
    "### Why It Matters  \n",
    "\n",
    "If you rely on AI for factual or analytical tasks, it is your responsibility to confirm that outputs are accurate and aligned with reality.  \n",
    "\n",
    "### Strategies to Mitigate Hallucinations  \n",
    "\n",
    "1. **Fact-Check Outputs**  \n",
    "   - Use trusted external sources.  \n",
    "   - Compare AI responses with your own knowledge.  \n",
    "\n",
    "2. **Leverage Built-In Fact-Checking Tools**  \n",
    "   - Some AI systems (e.g., Gemini) provide search-based verification.  \n",
    "   - Cross-reference AI-generated claims directly.  \n",
    "\n",
    "3. **Consult Others**  \n",
    "   - Ask colleagues, peers, or subject-matter experts to validate critical outputs.  \n",
    "   - Use collaboration as a safeguard.  \n",
    "\n",
    "4. **Iterate with Clearer Prompts**  \n",
    "   - Vague instructions often lead to hallucinations.  \n",
    "   - Be specific about the type of answer you expect.  \n",
    "\n",
    "### Key Takeaway  \n",
    "\n",
    "Hallucinations are part of how generative AI works.  \n",
    "They can be **valuable for creativity**, but when accuracy matters:  \n",
    "\n",
    "- **Verify** ⚖️  \n",
    "- **Cross-reference** 🔍  \n",
    "- **Collaborate** 🤝  \n",
    "\n",
    "Always keep a **human in the loop** when using AI for factual or sensitive tasks.  \n"
   ]
  },
  {
   "cell_type": "markdown",
   "id": "5e948299",
   "metadata": {},
   "source": [
    "---"
   ]
  },
  {
   "cell_type": "markdown",
   "id": "62c9fd82",
   "metadata": {},
   "source": [
    "## **Prompt Engineering Quiz 💡**\n",
    "\n",
    "### Question 1\n",
    "**What is prompting?**  \n",
    "Answer: \n",
    "\n",
    "### Question 2\n",
    "**In the following prompt, which part describes the primary task?**  \n",
    "Prompt: *“Explain how car batteries work using non-technical language that someone without any mechanical knowledge could understand and interpret.”*  \n",
    "Answer: \n",
    "\n",
    "### Question 3\n",
    "**When you are using a gen AI tool to create a healthy three-course menu that requires a certain number of calories, which prompting element will ensure the menu is more practical?**  \n",
    "Answer: \n",
    "\n",
    "### Question 4\n",
    "**Prompting with audio to receive a visual representation is called what?**  \n",
    "Answer: \n",
    "\n",
    "### Question 5\n",
    "**What does a human-in-the-loop approach to prompting emphasize?**  \n",
    "Answer: \n",
    "\n",
    "### Question 6\n",
    "**When the initial prompt \"Create a dataset\" is too broad, what should you do to refine it?**  \n",
    "Answer: \n"
   ]
  }
 ],
 "metadata": {
  "kernelspec": {
   "display_name": "Python 3",
   "language": "python",
   "name": "python3"
  },
  "language_info": {
   "name": "python",
   "version": "3.11.0"
  }
 },
 "nbformat": 4,
 "nbformat_minor": 5
}
