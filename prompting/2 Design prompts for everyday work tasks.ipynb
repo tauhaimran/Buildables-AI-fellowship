{
 "cells": [
  {
   "cell_type": "markdown",
   "id": "ae1d50dc",
   "metadata": {},
   "source": [
    "# ✨ Design prompts for everyday work tasks 😎 ✨"
   ]
  },
  {
   "cell_type": "markdown",
   "id": "69b07c9e",
   "metadata": {},
   "source": [
    "Not sure how AI can fit into your daily workflow? I’ll walk you through practical examples that save time and boost productivity. You’ll design prompts to draft emails for different audiences, spark new ideas during brainstorming, build tables and trackers in minutes, turn meeting notes into action items, and quickly summarize long documents."
   ]
  },
  {
   "cell_type": "markdown",
   "id": "a233da1e",
   "metadata": {},
   "source": [
    "---"
   ]
  },
  {
   "cell_type": "markdown",
   "id": "1e3b8929",
   "metadata": {},
   "source": [
    "## **Save Time at Work by Using AI ⏰**\n",
    "\n",
    "### Introduction\n",
    "Many professionals need to process large amounts of information quickly.  \n",
    "AI tools can help streamline this process by acting as a **creative, on-demand assistant**.\n",
    "\n",
    "### Real-Life Scenario\n",
    "- I often have to **read multiple research papers** in a single day.  \n",
    "- While I enjoy staying updated, it's not always possible to read every line.  \n",
    "- Solution: **Upload papers to a generative AI tool** and:\n",
    "  - Ask for **the most important points**  \n",
    "  - Request **summaries**  \n",
    "  - Follow up with **specific questions**\n",
    "\n",
    "💡 This allows me to **understand new topics faster** without missing key insights.\n",
    "\n",
    "📌**Key Takeaway:**  \n",
    "> Generative AI is like having a **personal assistant** who helps you summarize, plan, and create — freeing you to focus on high-value work.\n"
   ]
  },
  {
   "cell_type": "markdown",
   "id": "d6306013",
   "metadata": {},
   "source": [
    "---"
   ]
  },
  {
   "cell_type": "markdown",
   "id": "a95f8a83",
   "metadata": {},
   "source": [
    "## **Tackle Your To-Do List with the Help of AI 🚀**\n",
    "\n",
    "### 🎯 Getting Started with AI\n",
    "For many people, the hardest part is simply knowing **where to begin**.  \n",
    "It can feel intimidating to look at a blank AI chat window and wonder:  \n",
    "*\"What should I even ask?\"*\n",
    "\n",
    "💡 Instead of starting with abstract ideas, **start with what you’re already doing**:  \n",
    "- ✅ Summarizing  \n",
    "- 💡 Brainstorming  \n",
    "- 🗂️ Planning  \n",
    "- 🔍 Researching  \n",
    "\n",
    "### 🛠️ How to Apply This\n",
    "Next time you look at your to-do list, check for items like:\n",
    "- 📧 **Writing an email** → Ask AI to **draft a first version**.  \n",
    "- 🔍 **Researching a topic** → Let AI **summarize key points** quickly.  \n",
    "- 📝 **Starting a project** → Use AI to **create an outline or plan**.  \n",
    "\n",
    "👉 The mindset shift:  \n",
    "Don’t think *“What can I do with AI?”*  \n",
    "Instead ask: **“What am I already doing that AI can help with?”**"
   ]
  },
  {
   "cell_type": "markdown",
   "id": "0a232b40",
   "metadata": {},
   "source": [
    "### Exercise: Try It Yourself ❗\n",
    "1. Write down your **to-do list** for today or this week.  \n",
    "2. Pick **one task** where AI could help.  \n",
    "   - Example: \"Write a follow-up email to my team\"  \n",
    "3. Open your AI tool and **give it this prompt**:  \n",
    "   - *“Draft a professional, friendly email reminding my team about our weekly meeting.”*  \n",
    "4. Review, edit, and use the result ✅  "
   ]
  },
  {
   "cell_type": "markdown",
   "id": "7968bcd0",
   "metadata": {},
   "source": [
    "📌**Key Takeaway**\n",
    "AI is not about adding *new work* to your plate.  \n",
    "It’s about **helping you tackle the tasks you already have** — faster, easier, and with less stress.  "
   ]
  },
  {
   "cell_type": "markdown",
   "id": "d9fa0fbf",
   "metadata": {},
   "source": [
    "---"
   ]
  },
  {
   "cell_type": "markdown",
   "id": "0c4900cd",
   "metadata": {},
   "source": [
    "## **Write Emails with Generative AI 📧**\n",
    "\n",
    "### 🛠️ How AI Can Help with Emails\n",
    "Gen AI tools can support you by:\n",
    "- ✍️ Drafting first versions of emails  \n",
    "- 🎭 Adjusting tone (casual, formal, professional, fun)  \n",
    "- 💡 Suggesting new approaches to connect better with your audience  \n",
    "\n",
    "### 🧩 The Prompt Framework\n",
    "When writing with AI, follow this simple structure:  \n",
    "1. **Persona** – Who are you writing as?  \n",
    "2. **Context** – What is the situation?  \n",
    "3. **Task** – What should the AI create?  \n",
    "4. **Specificity** – Add details like tone, length, or format  \n",
    "5. **Iterate** – Review and refine for different audiences  "
   ]
  },
  {
   "cell_type": "markdown",
   "id": "3b07ec9f",
   "metadata": {},
   "source": [
    "### 🏋️ Example: Gym Manager Email\n",
    "**Scenario:** You’re a **gym manager** announcing a new schedule.  \n",
    "\n",
    "1. Step 1: Persona  \n",
    "\"I am a gym manager.\"  \n",
    "2. Step 2: Context  \n",
    "\"We have a new gym schedule.\"  \n",
    "3. Step 3: Task  \n",
    "\"Write an email informing our staff of the new schedule.\"  \n",
    "4. Step 4: Specificity  \n",
    "- Highlight changes:  \n",
    "  - Cardio Blast moved from **7:00 AM → 6:00 AM** (Mon/Wed/Fri).  \n",
    "- Make it: **Professional, friendly, and short**.  \n",
    "\n",
    "👉 AI Output: A clear, professional staff email with all schedule updates.  \n",
    "\n",
    "\n",
    "### 🔄 Iterating for Different Audiences\n",
    "Same information, but new **tone** and **audience**:  \n",
    "- 🧑‍💼 For executives → More formal, strategic.  \n",
    "- 🏋️ For gym members → Fun, friendly, and motivating.  \n",
    "💡 Example prompt:  \n",
    "*\"Write a concise consumer-facing email for gym members. Tone: fun, friendly, motivating. Add a pun about lifting weights.\"*  \n",
    "\n",
    "✅ Result: Same schedule info, but rewritten to **energize clients**.  \n"
   ]
  },
  {
   "cell_type": "markdown",
   "id": "2870c2d8",
   "metadata": {},
   "source": [
    "### Exercise: Try It Yourself ❗\n",
    "1. Think of an **email you need to write** (e.g., to your team, customers, or a client).  \n",
    "2. Use the **prompt framework**:  \n",
    "   - Persona: Who are you?  \n",
    "   - Context: What’s happening?  \n",
    "   - Task: What do you want the email to do?  \n",
    "   - Specificity: Add tone, format, details.  \n",
    "3. Ask your AI tool to **draft the email**.  \n",
    "4. Then, **iterate**:  \n",
    "   - Change the tone (formal → casual, professional → fun).  \n",
    "   - Adjust the audience.  "
   ]
  },
  {
   "cell_type": "markdown",
   "metadata": {},
   "source": [
    "### ⚠️ Best Practice\n",
    "Always:  \n",
    "- ✅ **Check for factual accuracy** in AI outputs  \n",
    "- 🛠️ **Tweak prompts** until the email feels right  \n",
    "- ✨ **Adapt tone** to match your audience and goals  \n",
    "\n",
    "📌 **Key Takeaway**\n",
    "Generative AI isn’t just a writing assistant.  \n",
    "It’s a **communication partner** that helps you:  \n",
    "- Save time  \n",
    "- Nail the right tone  \n",
    "- Adapt your message for any audience  "
   ]
  },
  {
   "cell_type": "markdown",
   "metadata": {},
   "source": [
    "---"
   ]
  },
  {
   "cell_type": "markdown",
   "id": "400e68d3",
   "metadata": {},
   "source": [
    "## **Prompt with Personality: Match Gen AI to Your Writing Style 😎**\n",
    "\n",
    "### 🎭 How Gen AI Tools Approach Tone and Style\n",
    "Ever noticed how some AI-generated text sounds robotic 🤖, while other times it feels like chatting with a friend 👋 or professor 🎓?  \n",
    "\n",
    "👉 The difference lies in how **Gen AI handles tone and style.**\n",
    "\n",
    "One key factor: **Contextual understanding.**\n",
    "\n",
    "### 🧠 What is Contextual Understanding?\n",
    "Gen AI tools learn from massive datasets of conversations and writing styles.  \n",
    "\n",
    "Example: If you ask **“What’s up?”**, the AI recognizes it as a casual greeting and replies naturally:  \n",
    "*\"Not much, how about you?\"*  \n",
    "\n",
    "This ability allows the AI to:  \n",
    "- 👥 Identify **audiences**  \n",
    "- ❓ Recognize **linguistic cues** (like question marks)  \n",
    "- 📚 Learn from **references you provide**  \n",
    "- ⚙️ Adapt to **your preferences**  \n",
    "- 🔄 Stay **consistent** in style  \n",
    "- 🎨 Generate outputs that match **your chosen tone**  \n",
    "\n",
    "### 📊 Visual Concept\n",
    "Imagine a **flow chart**:  \n",
    "\n",
    "- **Inputs**: Audience, linguistic cues, preferences, references  \n",
    "⬇️  \n",
    "- **Middle Layer**: Tone + Style  \n",
    "⬇️  \n",
    "- **Output**: Your final AI-generated text  "
   ]
  },
  {
   "cell_type": "markdown",
   "id": "440dbed8",
   "metadata": {},
   "source": [
    "### 🛠️ **Strategies for Tone and Style in Prompting**\n",
    "\n",
    "### 1. 🎯 Specify Your Tone and Style\n",
    "Don’t just say:  \n",
    "> *“Summarize this report into three short paragraphs.”*  \n",
    "\n",
    "Instead, guide the tool:  \n",
    "> *“Summarize this report into three short paragraphs in a **friendly, professional, and easy-to-read** tone.”*  \n",
    "\n",
    "💡 **Tip:** Be **explicit**!  \n",
    "- Say *“witty banter”* instead of just *“humorous”*  \n",
    "- Say *“like talking to a friend”* instead of just *“casual”*  \n",
    "\n",
    "Other tones you can try:  \n",
    "- 🎓 **Academic** → “scholarly and in-depth, like a professor”  \n",
    "- 💪 **Persuasive** → “compelling and convincing”  \n",
    "- 😏 **Sarcastic** → “dryly funny, like a wry comedian”  \n",
    "- 🌟 **Inspirational** → “uplifting and motivating”  \n",
    "- 🧸 **Simple** → “as if explaining to kindergarten students”  \n",
    "\n",
    "You can also add **constraints** like:  \n",
    "> *“Avoid jargon that may confuse beginners.”*\n",
    "\n",
    "### 2. 📖 Provide Tone and Style References\n",
    "Give the AI a **reference voice** to model after.  \n",
    "\n",
    "Example prompt:  \n",
    "> *“Help me draft a description for a new line of rock climbing apparel. Target: young outdoor enthusiasts. Keep it upbeat, inspiring, and conversational — like you’re talking to a friend who climbs.”*  \n",
    "\n",
    "Want to refine further? Add:  \n",
    "> *“Consider the tone of interviews with history’s most renowned climbers.”*  \n",
    "\n",
    "### 3. 🔄 Iterate on Tone and Style\n",
    "If the first draft feels bland or off-tone, **iterate**! Add detail and emotion:  \n",
    "\n",
    "> *“I need this product line description to speak to the heart of young climbers. Evoke passion for pushing limits indoors and outdoors. Tone: reverent, inspiring, less cheeky.”*  \n",
    "\n",
    "💡 Rule of thumb: **Always Be Iterating (ABI)!**  \n",
    "The clearer your refinements, the better the AI adapts.\n"
   ]
  },
  {
   "cell_type": "markdown",
   "id": "9168ba75",
   "metadata": {},
   "source": [
    "### 🌟 Why Prompting for Tone and Style Matters\n",
    "- The **right tone** changes how your message is received.  \n",
    "- Clear instructions = better alignment with your goals.  \n",
    "- Think of it like giving **directions to an actor** 🎬:  \n",
    "  - The more detail you provide, the better they embody the role.  \n",
    "\n",
    "👉 Nuance matters.  \n",
    "👉 The more you teach the tool about tone and style, the more useful it becomes."
   ]
  },
  {
   "cell_type": "markdown",
   "id": "79095ef7",
   "metadata": {},
   "source": [
    "### Exercise: Try It Yourself ❗\n",
    "**Practice Tone & Style Prompting**\n",
    "1. Pick a short text you’ve written (an email, a report, or a social post).  \n",
    "2. Rewrite your prompt to **specify tone and style**.  \n",
    "   - Example: “Make this LinkedIn post sound **inspirational, like a TED speaker motivating professionals.**”  \n",
    "3. Run it through your AI tool.  \n",
    "4. Iterate: Ask for a new version in a **different tone** (funny, formal, academic, casual).  \n",
    "5. Compare the results — which version feels most effective for your audience?  "
   ]
  },
  {
   "cell_type": "markdown",
   "metadata": {},
   "source": [
    "📌 **Key Takeaway**\n",
    "Tone and style transform AI from a robotic assistant into a **voice that matches yours.**  \n",
    "Be specific, provide references, and keep iterating — that’s how you unlock AI’s full creative potential."
   ]
  },
  {
   "cell_type": "markdown",
   "id": "4dbcc75c",
   "metadata": {},
   "source": [
    "---"
   ]
  },
  {
   "cell_type": "markdown",
   "metadata": {},
   "source": [
    "## **Brainstorming Ideas with Generative AI**\n",
    "\n",
    "Generative AI isn’t just about answering questions—it can also **help you brainstorm, plan, and create engaging ideas** for work or projects. Here, we’ll practice writing prompts that generate **creative ideas and structured plans**.\n",
    "\n",
    "### 📖 Overview\n",
    "\n",
    "* Learn how to **set up a strong prompt** using persona, context, task, and format.\n",
    "* Explore how to **iterate and refine** AI responses.\n",
    "* Apply this method to a **real-world example**: planning the launch of a new video game.\n",
    "\n",
    "### 🧩 Example: Icebreakers for New Teammates\n",
    "\n",
    "* AI can suggest **fun and engaging icebreakers**, even for virtual meetings.\n",
    "* You can **personalize** prompts by adding details about the new teammate.\n",
    "* This approach works not only for icebreakers but also for **project brainstorming**.\n",
    "\n",
    "### 📝 Example Prompt: Video Game Launch\n",
    "\n",
    "**Scenario:**\n",
    "You’re a marketer for a video game producer, launching a **medieval fantasy role-playing game**.\n",
    "\n",
    "**Prompt Structure:**\n",
    "\n",
    "```\n",
    "Persona: I’m a marketer for a well-known video game producer.  \n",
    "Context: I’m planning the launch of a medieval fantasy RPG for young adults.  \n",
    "Task: Create a one-year launch timeline + buzz-building strategies.  \n",
    "Format: Rough timeline + bullet-point ideas.  \n",
    "```\n",
    "\n",
    "**Output You Might Get:**\n",
    "\n",
    "* Pre-launch events (contests, beta tests, influencer previews).\n",
    "* Marketing timeline (social media teasers, demo releases, global launch event).\n",
    "\n",
    "### 🔄 Iteration Example\n",
    "\n",
    "Sometimes the first answer isn’t enough.\n",
    "Follow up with:\n",
    "\n",
    "```\n",
    "Now provide pre-launch ideas that will appeal to a global audience of young adults.\n",
    "```\n",
    "\n",
    "This adds **cultural variety** and makes the strategy **globally relevant**."
   ]
  },
  {
   "cell_type": "markdown",
   "id": "67b6841e",
   "metadata": {},
   "source": [
    "📌 **Key Takeaways**\n",
    "\n",
    "* **Strong prompts** = Persona + Context + Task + Format.\n",
    "* **Iterate** by asking follow-up questions.\n",
    "* **AI is a partner**, not a replacement—you still need to guide it."
   ]
  },
  {
   "cell_type": "markdown",
   "id": "99bd2fc8",
   "metadata": {},
   "source": [
    "###  Exercises : Try It Yourself ❗\n",
    "\n",
    "### Exercise 1: Icebreakers\n",
    "\n",
    "Write a prompt asking AI to generate **3 creative icebreakers** for a new teammate who loves basketball and photography.\n",
    "\n",
    "### Exercise 2: Product Launch\n",
    "\n",
    "Imagine you’re launching a **new mobile fitness app** (it can be any product).\n",
    "Write a prompt to:\n",
    "\n",
    "* Define a **6-month launch timeline**.\n",
    "* Suggest **3 pre-launch buzz ideas**.\n",
    "\n",
    "### Exercise 3: Global Audience Twist\n",
    "\n",
    "Take your product launch prompt and **iterate** by asking the AI to adjust the ideas for a **global audience**."
   ]
  },
  {
   "cell_type": "markdown",
   "id": "ef6256f8",
   "metadata": {},
   "source": [
    "### ✅ Reflection Question 💡\n",
    "\n",
    "How can you use generative AI to **spark new ideas** in your own projects or workplace?"
   ]
  },
  {
   "cell_type": "markdown",
   "id": "2454a062",
   "metadata": {},
   "source": [
    "---"
   ]
  },
  {
   "cell_type": "markdown",
   "id": "e133995c",
   "metadata": {},
   "source": [
    "## **Build Tables & Trackers Effortlessly with AI**\n",
    "\n",
    "Spreadsheets may not be everyone’s favorite tool 😅—but they’re **essential for organizing projects, schedules, and responsibilities**.\n",
    "With Generative AI, you can **skip the hassle of manual setup** and quickly build **tables, schedules, and trackers**.\n",
    "\n",
    "### 📖 Overview\n",
    "\n",
    "* Learn how to **prompt AI to generate structured tables**.\n",
    "* Use **constraints** to ensure fair and logical scheduling.\n",
    "* Export results into **Google Sheets** (or Excel) for team use.\n",
    "\n",
    "### 🧩 Example: Weekly Staffing Schedule\n",
    "\n",
    "**Scenario:**\n",
    "You manage 10 employees (numbered 1–10) and need a weekly staffing table.\n",
    "\n",
    "**Prompt Example:**\n",
    "\n",
    "```\n",
    "I have 10 employees. Their employee numbers are 1 through 10.  \n",
    "Create a weekly staffing table with columns: Day, Name, and Shift (Morning or Afternoon).  \n",
    "\n",
    "Constraints:  \n",
    "- 2 employees per morning shift.  \n",
    "- 2 employees per afternoon shift.  \n",
    "- No employee should work a morning shift after an afternoon shift the previous day.  \n",
    "- No double shifts (morning + afternoon on the same day).  \n",
    "- Shifts should be distributed fairly.  \n",
    "```"
   ]
  },
  {
   "cell_type": "markdown",
   "id": "531dd310",
   "metadata": {},
   "source": [
    "### ✅ Possible Output (Sample Table)\n",
    "\n",
    "| Day       | Morning Shift | Afternoon Shift |\n",
    "| --------- | ------------- | --------------- |\n",
    "| Monday    | Emp 1, Emp 2  | Emp 3, Emp 4    |\n",
    "| Tuesday   | Emp 5, Emp 6  | Emp 7, Emp 8    |\n",
    "| Wednesday | Emp 9, Emp 10 | Emp 1, Emp 2    |\n",
    "| Thursday  | Emp 3, Emp 4  | Emp 5, Emp 6    |\n",
    "| Friday    | Emp 7, Emp 8  | Emp 9, Emp 10   |\n",
    "\n",
    "⚡ Notice how **constraints are applied**—no double shifts, fair distribution, and smooth transitions."
   ]
  },
  {
   "cell_type": "markdown",
   "id": "5c8ea2c5",
   "metadata": {},
   "source": [
    "### 🔄 Bonus: Using AI in Google Sheets\n",
    "\n",
    "Once you copy this schedule into Google Sheets, you can prompt AI to:\n",
    "\n",
    "* **Summarize shifts per employee.**\n",
    "* **Generate a new weekly schedule.**\n",
    "* **Write formulas** (e.g., total shifts worked by each employee).\n",
    "\n",
    "⚠️ **Important Reminder:**\n",
    "Never enter **sensitive data** (like employee names) into public AI tools. Use anonymized IDs.\n",
    "\n",
    "📌 **Key Takeaways**\n",
    "\n",
    "* AI can **automate repetitive table creation**.\n",
    "* Adding **constraints** ensures accuracy and fairness.\n",
    "* Exporting to Sheets lets you **analyze, edit, and collaborate**.\n",
    "* Always be mindful of **data privacy policies**."
   ]
  },
  {
   "cell_type": "markdown",
   "id": "aecf0a24",
   "metadata": {},
   "source": [
    "### Exercises: Try It Yourself ❗\n",
    "\n",
    "### Exercise 1: Project Tracker\n",
    "\n",
    "Prompt AI to create a **project tracker** with columns: Task, Owner, Deadline, Status.\n",
    "Add constraints: Each owner should have no more than 2 active tasks.\n",
    "\n",
    "### Exercise 2: Event Schedule\n",
    "\n",
    "You’re planning a **3-day conference**. Ask AI to generate a schedule with:\n",
    "\n",
    "* Columns: Day, Session Title, Speaker, Time.\n",
    "* Constraint: No speaker should have more than 1 session per day.\n",
    "\n",
    "### Exercise 3: Team Availability\n",
    "\n",
    "Write a prompt to generate a **vacation tracker** for 8 employees.\n",
    "\n",
    "* Columns: Employee, Vacation Start, Vacation End.\n",
    "* Constraint: At least 5 employees must be available at all times.\n"
   ]
  },
  {
   "cell_type": "markdown",
   "id": "393c71b2",
   "metadata": {},
   "source": [
    "### ✅ Reflection Question\n",
    "\n",
    "How could you use AI to **organize recurring tasks** (like meetings, deadlines, or resources) at your workplace?"
   ]
  },
  {
   "cell_type": "markdown",
   "id": "6e8e73c1",
   "metadata": {},
   "source": [
    "---"
   ]
  },
  {
   "cell_type": "markdown",
   "id": "ac6f1711",
   "metadata": {},
   "source": [
    "## **Capture Meeting Notes Instantly with AI**\n",
    "\n",
    "Meetings can be packed with discussions, decisions, and action items—but it’s easy to lose track of **who said what** and **what needs to get done**. Generative AI can help by **turning messy transcripts into clean, structured meeting notes**.\n",
    "\n",
    "### 📖 Overview\n",
    "\n",
    "* Learn how to **summarize long transcripts** into meeting minutes.\n",
    "* Use prompts to **structure notes by speaker, key points, and action items**.\n",
    "* Iterate to refine notes into a format that’s useful for collaboration.\n",
    "\n",
    "### 🧩 Example: Creating Meeting Minutes\n",
    "\n",
    "**Scenario:**\n",
    "You had a 1-hour project update meeting with multiple speakers. You exported the transcript from Google Meet into Docs.\n",
    "\n",
    "**Prompt Example 1 (basic):**\n",
    "\n",
    "```\n",
    "Create meeting minutes for this meeting.  \n",
    "Section the minutes by speaker, and create a bulleted summary of key points made by each speaker.  \n",
    "Highlight action items for each speaker where applicable.  \n",
    "```\n",
    "\n",
    "### ✅ Output (Basic Example)\n",
    "\n",
    "**Speaker A**\n",
    "\n",
    "* Shared project status: development phase is 70% complete.\n",
    "* Action Item: Finalize feature testing by next Friday.\n",
    "\n",
    "**Speaker B**\n",
    "\n",
    "* Highlighted marketing needs for product launch.\n",
    "* Action Item: Draft launch campaign outline by next meeting.\n",
    "\n",
    "**Prompt Example 2 (iterated for clarity):**\n",
    "\n",
    "```\n",
    "Create sections based on key points from the meeting.  \n",
    "Attribute each key point to a speaker.  \n",
    "Assign clear action items to the appropriate person.  \n",
    "Format notes with responsibilities and deadlines.  \n",
    "```\n",
    "\n",
    "### ✅ Output (Refined Example)\n",
    "\n",
    "**Key Point 1: Development Progress**\n",
    "\n",
    "* Speaker A: Development is 70% complete.\n",
    "* Action Item: Speaker A to finalize feature testing by Sept 15.\n",
    "\n",
    "**Key Point 2: Marketing Campaign**\n",
    "\n",
    "* Speaker B: Needs alignment with product launch.\n",
    "* Action Item: Speaker B to prepare campaign draft by Sept 10.\n",
    "\n",
    "🔄 **Why This Matters**\n",
    "\n",
    "* Keeps **responsibilities clear**.\n",
    "* Helps **teams stay aligned**.\n",
    "* Ensures **action items don’t slip through the cracks**.\n",
    "\n",
    "📌 **Key Takeaways**\n",
    "\n",
    "* Start with a **basic prompt** to capture notes.\n",
    "* Iterate to **refine structure, add clarity, and highlight responsibilities**.\n",
    "* Format notes so they’re easy to **share, track, and act on**."
   ]
  },
  {
   "cell_type": "markdown",
   "id": "6614216d",
   "metadata": {},
   "source": [
    "### Exercises: Try It Yourself ❗\n",
    "\n",
    "### Exercise 1: Speaker-based Minutes\n",
    "\n",
    "Take a sample transcript (or your last meeting notes) and prompt AI:\n",
    "\n",
    "```\n",
    "Summarize the meeting into minutes by speaker.  \n",
    "Add 2–3 bullet points per speaker, and mark action items clearly.  \n",
    "```\n",
    "\n",
    "### Exercise 2: Action-Focused Notes\n",
    "\n",
    "Use this prompt:\n",
    "\n",
    "```\n",
    "Create meeting minutes that focus only on action items.  \n",
    "Format each entry as: Action Item, Responsible Person, Deadline.  \n",
    "```\n",
    "\n",
    "### Exercise 3: Thematic Notes\n",
    "\n",
    "Try refining for themes:\n",
    "\n",
    "```\n",
    "Group meeting minutes into sections based on topics discussed.  \n",
    "For each section, summarize key decisions, and list assigned action items.  \n",
    "```"
   ]
  },
  {
   "cell_type": "markdown",
   "id": "62096ed1",
   "metadata": {},
   "source": [
    "### ✅ Reflection Question 💡\n",
    "\n",
    "How could AI-generated meeting notes help you **improve follow-up and accountability** in your workplace?"
   ]
  },
  {
   "cell_type": "markdown",
   "id": "1a08c642",
   "metadata": {},
   "source": [
    "---"
   ]
  },
  {
   "cell_type": "markdown",
   "id": "9c039294",
   "metadata": {},
   "source": [
    "## **Summarize Lengthy Documents with AI***\n",
    "\n",
    "When doing research, writing reports, or analyzing market trends, you’ll often come across **dense and lengthy documents**. Instead of reading everything word for word, you can use **generative AI to distill them into clear summaries, outlines, or insights**.\n",
    "\n",
    "### 📖 Overview\n",
    "\n",
    "* Learn how to **summarize long documents** quickly.\n",
    "* Use **long context windows** to handle big files.\n",
    "* Specify **format and audience** to make summaries more useful.\n",
    "\n",
    "### 🧩 Example: Summarizing a Long Report\n",
    "\n",
    "**Scenario:**\n",
    "You have a **44-page market research report**. You want a short version you can skim before tomorrow’s meeting.\n",
    "\n",
    "**Prompt Example 1 (basic summary):**\n",
    "\n",
    "```\n",
    "Summarize this report in an outline.  \n",
    "Focus only on the most essential points.  \n",
    "```\n",
    "\n",
    "### ✅ Output (Basic Example)\n",
    "\n",
    "**Report Summary**\n",
    "\n",
    "1. Market growth: steady increase of 8% CAGR in past 5 years.\n",
    "2. Key drivers: digital adoption, consumer demand, new entrants.\n",
    "3. Challenges: regulation, supply chain disruptions.\n",
    "4. Forecast: market expected to double in next 10 years.\n",
    "\n",
    "**Prompt Example 2 (audience-focused summary):**\n",
    "\n",
    "```\n",
    "Summarize this report for a small business owner.  \n",
    "Use simple language, avoid jargon, and highlight practical takeaways.  \n",
    "```\n",
    "\n",
    "### ✅ Output (Refined Example)\n",
    "\n",
    "**For Small Business Owners**\n",
    "\n",
    "* The industry is growing fast → more opportunities for new entrants.\n",
    "* Customers want digital-first products → focus on online presence.\n",
    "* Big challenge: regulations → stay updated and compliant.\n",
    "* Action Tip: Watch supply chain costs and diversify suppliers.\n",
    "\n",
    "**Prompt Example 3 (creative summary):**\n",
    "\n",
    "```\n",
    "Summarize this report using 80s movie quotes for emphasis.  \n",
    "```\n",
    "\n",
    "### ✅ Output (Creative Example)\n",
    "\n",
    "* Market growth is strong: *“Nobody puts baby in a corner.”*\n",
    "* Regulations are tough: *“Stay out of the danger zone.”*\n",
    "* Forecast looks bright: *“Roads? Where we’re going, we don’t need roads.”*"
   ]
  },
  {
   "cell_type": "markdown",
   "id": "969f9cb8",
   "metadata": {},
   "source": [
    "### 🔄 Pro Tips\n",
    "\n",
    "* If your AI tool **can’t handle long documents**, break them into chunks:\n",
    "\n",
    "  1. Summarize each section separately.\n",
    "  2. Then ask AI: *“Summarize these summaries into one concise overview.”*\n",
    "* Always **adapt the summary to the audience**: executives, students, small business owners, etc."
   ]
  },
  {
   "cell_type": "markdown",
   "id": "be321885",
   "metadata": {},
   "source": [
    "📌 **Key Takeaways**\n",
    "\n",
    "* Use **long context windows** when available to process entire documents at once.\n",
    "* Be **specific with format**: outline, bullets, executive summary, story-style.\n",
    "* Add **persona/audience** to tailor the output for maximum impact.\n",
    "* If needed, **chunk → summarize → re-summarize**."
   ]
  },
  {
   "cell_type": "markdown",
   "id": "b303a717",
   "metadata": {},
   "source": [
    "### Exercises: Try It Yourself ❗\n",
    "\n",
    "### Exercise 1: Outline Summary\n",
    "\n",
    "Take a long article or report. Prompt AI:\n",
    "\n",
    "```\n",
    "Summarize this document into a bulleted outline of no more than 10 points.  \n",
    "```\n",
    "\n",
    "### Exercise 2: Audience Summary\n",
    "\n",
    "Try this with the same text:\n",
    "\n",
    "```\n",
    "Summarize this document as if explaining it to a high school student.  \n",
    "```\n",
    "\n",
    "### Exercise 3: Comparative Summary\n",
    "\n",
    "Use:\n",
    "\n",
    "```\n",
    "Summarize this report in two versions:  \n",
    "1. Executive summary for leadership.  \n",
    "2. Simplified version for frontline employees.  \n",
    "```"
   ]
  },
  {
   "cell_type": "markdown",
   "id": "30bf5a65",
   "metadata": {},
   "source": [
    "### ✅ Reflection Question 💡\n",
    "\n",
    "How could tailoring summaries to **different audiences** (executives, clients, students) improve understanding and decision-making in your work?"
   ]
  },
  {
   "cell_type": "markdown",
   "id": "849c89dd",
   "metadata": {},
   "source": [
    "---"
   ]
  },
  {
   "cell_type": "markdown",
   "id": "bfd95c30",
   "metadata": {},
   "source": [
    "## **Practice Advanced Summarization Techniques**\n",
    "\n",
    "### Key Ideas\n",
    "\n",
    "* **Chain of Density Prompting**: Start with a broad summary → refine → condense → reach concise, focused insights.\n",
    "* Iteration helps **spot hallucinations** and track what gets removed.\n",
    "* You can also **expand short outputs** by prompting for more detail.\n",
    "* Be **specific about format** (e.g., single sentence, top 3 trends).\n",
    "\n",
    "### Exercise\n",
    "\n",
    "1. Take a long article or report.\n",
    "2. Summarize it in 3 steps:\n",
    "\n",
    "   * Broad overview (1 paragraph)\n",
    "   * Shorter summary (3 bullet points)\n",
    "   * Single sentence (main trend/insight).\n",
    "\n",
    "📌 **Key Takeaway**\n",
    "\n",
    "Summarization isn’t one-shot—**refinement creates sharper, more reliable outputs**."
   ]
  }
 ],
 "metadata": {
  "language_info": {
   "name": "python"
  }
 },
 "nbformat": 4,
 "nbformat_minor": 5
}
