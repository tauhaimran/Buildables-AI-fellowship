{
 "cells": [
  {
   "cell_type": "markdown",
   "id": "4c70919b",
   "metadata": {},
   "source": [
    "# Introduction to APIs"
   ]
  },
  {
   "cell_type": "markdown",
   "metadata": {},
   "source": [
    "An **API (Application Programming Interface)** is like a bridge that lets different software systems talk to each other. It defines how requests and responses should be structured, allowing apps to share data or functionality without revealing their internal workings. For example, a weather app uses an API to fetch real-time data from a weather service."
   ]
  },
  {
   "cell_type": "markdown",
   "id": "218cd1e3",
   "metadata": {},
   "source": [
    "## Why Learn APIs?\n",
    "APIs are essential for:\n",
    "- **Data Exchange**: Apps can access and share data (e.g., a web app showing live stock prices).\n",
    "- **Integration**: Connect different services (e.g., linking a payment gateway like Stripe to an e-commerce site).\n",
    "- **Scalable Services**: Build systems where parts (like front-end and back-end) work together efficiently, enabling apps to grow."
   ]
  },
  {
   "cell_type": "markdown",
   "id": "e19e3b8f",
   "metadata": {},
   "source": [
    "## Types of APIs\n",
    "There are several types of APIs, but we’ll focus on:\n",
    "- **Web APIs**: Used for communication over the internet, typically between a client (like a browser) and a server. Examples include fetching user data or posts from a social media platform.\n",
    "- **Library APIs**: Allow code to use pre-built functions (e.g., Python’s `math` module).\n",
    "- **OS APIs**: Let apps interact with operating systems (e.g., accessing files on Windows).\n",
    "Our lessons will emphasize **Web APIs** because they’re widely used for client-server interactions, like building or connecting web apps."
   ]
  },
  {
   "cell_type": "markdown",
   "id": "5c1e45d2",
   "metadata": {},
   "source": [
    "# Basic Concepts of APIs"
   ]
  },
  {
   "cell_type": "markdown",
   "id": "ce146422",
   "metadata": {},
   "source": [
    "## Client-Server Model\n",
    "The **client-server model** is the foundation of how APIs work:\n",
    "- **Client**: The app or device sending a request (e.g., a browser or mobile app).\n",
    "- **Server**: The system that processes the request and sends a response (e.g., a web server with data).\n",
    "For example, when you visit a website, your browser (client) requests data from a server, which responds with the webpage content."
   ]
  },
  {
   "cell_type": "markdown",
   "id": "f53c5481",
   "metadata": {},
   "source": [
    "## Endpoints\n",
    "An **endpoint** is a specific URL in an API that represents a resource. Each endpoint handles a particular function.\n",
    "- Example: `https://api.example.com/users` might return a list of users.\n",
    "- Endpoints are like addresses for data or actions (e.g., `/products` for product data, `/orders` for order details)."
   ]
  },
  {
   "cell_type": "markdown",
   "id": "b6aa7425",
   "metadata": {},
   "source": [
    "## Requests and Responses\n",
    "APIs rely on structured communication:\n",
    "- **Requests**: Sent by the client to the server, including:\n",
    "  - **Method**: What action to perform (e.g., GET, POST; covered later).\n",
    "  - **Headers**: Metadata like authentication tokens or content type.\n",
    "  - **Body**: Data sent to the server (e.g., user info in a POST request).\n",
    "- **Responses**: Returned by the server, including:\n",
    "  - **Status Codes**: Indicate success or failure (e.g., `200 OK` for success, `404 Not Found` for missing resources, `500 Internal Server Error` for issues).\n",
    "  - **Body**: Data returned (e.g., a list of users in JSON).\n",
    "Example: A client requests `/users`, and the server responds with a `200 OK` status and a list of users."
   ]
  },
  {
   "cell_type": "markdown",
   "id": "c5b24b0d",
   "metadata": {},
   "source": [
    "## Data Formats\n",
    "APIs use standard formats to exchange data:\n",
    "- **JSON (JavaScript Object Notation)**: Most common, lightweight, and easy to read. Example:\n",
    "  ```json\n",
    "  {\"id\": 1, \"name\": \"Alice\", \"email\": \"alice@example.com\"}\n",
    "  ```\n",
    "  - Parsed using libraries like Python’s `json` module or JavaScript’s `JSON.parse()`.\n",
    "- **XML (Extensible Markup Language)**: Older, more verbose. Example:\n",
    "  ```xml\n",
    "  <user><id>1</id><name>Alice</name><email>alice@example.com</email></user>\n",
    "  ```\n",
    "  - Less common but still used in legacy systems.\n",
    "- **How to Use**: Clients send data (e.g., JSON in a POST request) and parse responses (e.g., convert JSON to a Python dictionary)."
   ]
  },
  {
   "cell_type": "markdown",
   "id": "a984809b",
   "metadata": {},
   "source": [
    "# HTTP Methods and Their Usage"
   ]
  },
  {
   "cell_type": "markdown",
   "id": "d65c68bb",
   "metadata": {},
   "source": [
    "HTTP methods define the actions an API can perform on resources. They align with **CRUD** operations (Create, Read, Update, Delete) for managing data."
   ]
  },
  {
   "cell_type": "markdown",
   "id": "231e656b",
   "metadata": {},
   "source": [
    "### GET\n",
    "- **Purpose**: Retrieve data from a server.\n",
    "- **Characteristics**: \n",
    "  - **Safe**: Doesn’t change server data.\n",
    "  - **Idempotent**: Repeated calls return the same result.\n",
    "- **Example**: `GET /users` fetches a list of users.\n",
    "- **Use Case**: Display a list of products in an online store.\n",
    "\n",
    "### POST\n",
    "- **Purpose**: Create a new resource on the server.\n",
    "- **Characteristics**: \n",
    "  - **Not idempotent**: Multiple calls may create multiple resources.\n",
    "- **Example**: `POST /users` with `{\"name\": \"Alice\", \"email\": \"alice@example.com\"}` adds a new user.\n",
    "- **Use Case**: Submit a new order in an e-commerce app.\n",
    "\n",
    "### PUT\n",
    "- **Purpose**: Update or replace an existing resource entirely.\n",
    "- **Characteristics**: \n",
    "  - **Idempotent**: Repeated calls with the same data produce the same result.\n",
    "- **Example**: `PUT /users/1` with `{\"name\": \"Bob\", \"email\": \"bob@example.com\"}` updates user ID 1’s details.\n",
    "- **Use Case**: Update a user’s full profile in a system.\n",
    "\n",
    "### PATCH\n",
    "- **Purpose**: Partially update a resource (modify specific fields).\n",
    "- **Characteristics**: \n",
    "  - **Idempotent**: Repeated calls with the same data yield the same result.\n",
    "- **Example**: `PATCH /users/1` with `{\"email\": \"newemail@example.com\"}` changes only the email.\n",
    "- **Use Case**: Update a single field, like a user’s phone number.\n",
    "\n",
    "### DELETE\n",
    "- **Purpose**: Remove a resource from the server.\n",
    "- **Characteristics**: \n",
    "  - **Idempotent**: Repeated calls have the same effect (resource stays deleted).\n",
    "- **Example**: `DELETE /users/1` removes user ID 1.\n",
    "- **Use Case**: Delete a blog post or cancel an order.\n",
    "\n",
    "### Other Methods\n",
    "- **HEAD**: Retrieves metadata (like headers) without the response body.\n",
    "  - **Use Case**: Check if a resource exists or its size before downloading.\n",
    "  - **Example**: `HEAD /users/1` to verify user existence.\n",
    "- **OPTIONS**: Lists supported HTTP methods for an endpoint.\n",
    "  - **Use Case**: Discover what actions an API allows (e.g., check if `POST` is supported).\n",
    "  - **Example**: `OPTIONS /users` returns allowed methods like `GET`, `POST`.\n",
    "\n",
    "### When to Use for CRUD\n",
    "- **Create**: Use `POST` to add new resources.\n",
    "- **Read**: Use `GET` to retrieve data.\n",
    "- **Update**: Use `PUT` for full updates, `PATCH` for partial updates.\n",
    "- **Delete**: Use `DELETE` to remove resources."
   ]
  },
  {
   "cell_type": "markdown",
   "metadata": {},
   "source": [
    "These methods form the backbone of RESTful APIs, ensuring predictable and standardized interactions."
   ]
  },
  {
   "cell_type": "markdown",
   "id": "bfceae53",
   "metadata": {},
   "source": [
    "# REST APIs"
   ]
  },
  {
   "cell_type": "markdown",
   "id": "71e70f8c",
   "metadata": {},
   "source": [
    "## Principles of REST\n",
    "REST (Representational State Transfer) is an architectural style for designing web APIs, based on these key principles:\n",
    "- **Stateless**: Each request from a client to the server must contain all the information needed to process it. The server doesn’t store client state between requests. Example: A request to `/users/1` always fetches user 1’s data, regardless of prior requests.\n",
    "- **Uniform Interface**: APIs use standard conventions (e.g., HTTP methods like GET, POST) for consistency. Resources are accessed via unique URIs (e.g., `/products/123`).\n",
    "- **Resource-Based (URIs)**: Data and functionality are organized as resources, identified by URLs (e.g., `/orders` for order data).\n",
    "- **Representations (JSON/XML)**: Resources are sent or received in formats like JSON or XML. Example: A user resource might be `{\"id\": 1, \"name\": \"Alice\"}` in JSON.\n",
    "- **Layered System**: The API can have intermediary layers (e.g., proxies, load balancers) for scalability or security, transparent to the client."
   ]
  },
  {
   "cell_type": "markdown",
   "id": "f5d27e6e",
   "metadata": {},
   "source": [
    "## Advantages\n",
    "- **Scalable**: Statelessness and layering allow systems to handle many users by adding servers.\n",
    "- **Easy to Cache**: Responses (e.g., GET requests) can be cached to improve performance.\n",
    "- **Follows HTTP Standards**: Uses standard HTTP methods and status codes, making it widely compatible and easy to understand."
   ]
  },
  {
   "cell_type": "markdown",
   "metadata": {},
   "source": [
    "## Usage\n",
    "REST APIs power web services by enabling client-server communication:\n",
    "- **Social Media Feeds**: Platforms like Twitter use REST APIs to fetch posts or user profiles (e.g., GET `/tweets` for recent tweets).\n",
    "- **E-commerce Backends**: Online stores use REST APIs to manage products, orders, and payments (e.g., POST `/orders` to create an order).\n",
    "- **Real-World Examples**:\n",
    "  - **GitHub API**: Developers use `GET /repos/{owner}/{repo}` to retrieve repository details or `POST /repos` to create a new repository.\n",
    "  - **Stripe API**: Businesses use `POST /charges` to process payments or `GET /customers` to fetch customer data.\n",
    "\n",
    "These APIs allow apps to integrate with external services, enabling features like displaying GitHub stats or processing payments in an app."
   ]
  },
  {
   "cell_type": "markdown",
   "id": "547835bb",
   "metadata": {},
   "source": [
    "# Building APIs with Flask"
   ]
  },
  {
   "cell_type": "markdown",
   "id": "28bb436f",
   "metadata": {},
   "source": [
    "## Overview\n",
    "**Flask** is a lightweight Python web framework ideal for building simple APIs. It’s easy to learn and perfect for small projects or prototypes due to its minimal setup and flexibility."
   ]
  },
  {
   "cell_type": "markdown",
   "id": "1ae63843",
   "metadata": {},
   "source": [
    "## Setup\n",
    "To get started with Flask:\n",
    "1. Install Flask: Run `pip install flask` in your terminal.\n",
    "2. Basic App Structure: Create a Python file (e.g., `app.py`) with the following setup:\n",
    "   ```python\n",
    "   from flask import Flask\n",
    "\n",
    "   app = Flask(__name__)\n",
    "\n",
    "   if __name__ == '__main__':\n",
    "       app.run(debug=True)\n",
    "   ```\n",
    "   - `Flask(__name__)` creates the Flask app instance.\n",
    "   - `app.run(debug=True)` starts the server in development mode."
   ]
  },
  {
   "cell_type": "markdown",
   "id": "07f3d843",
   "metadata": {},
   "source": [
    "## Usage\n",
    "Flask uses **routes** to define API endpoints:\n",
    "- Define routes with the `@app.route('/endpoint', methods=['GET'])` decorator.\n",
    "- Use `jsonify` to return JSON responses.\n",
    "- Example: Create a route to handle GET requests:\n",
    "  ```python\n",
    "  from flask import jsonify\n",
    "\n",
    "  @app.route('/hello', methods=['GET'])\n",
    "  def hello():\n",
    "      return jsonify({\"message\": \"Hello, World!\"})\n",
    "  ```\n",
    "- Run the app and visit `http://localhost:5000/hello` to see `{\"message\": \"Hello, World!\"}`."
   ]
  },
  {
   "cell_type": "markdown",
   "id": "725ef088",
   "metadata": {},
   "source": [
    "## Pros\n",
    "- **Minimalist**: Simple to set up with minimal code.\n",
    "\n",
    "**Flexible**: Easy to customize for small projects or prototypes.\n",
    "- **Beginner-Friendly**: Straightforward syntax and clear documentation make it accessible for students.\n",
    "\n",
    "## Example: Simple GET Endpoint\n",
    "Below is a complete Flask API with a GET endpoint returning \"Hello, World!\":"
   ]
  },
  {
   "cell_type": "code",
   "execution_count": null,
   "id": "5bc6f76b",
   "metadata": {},
   "outputs": [],
   "source": [
    "from flask import Flask, jsonify\n",
    "\n",
    "app = Flask(__name__)\n",
    "\n",
    "@app.route('/hello', methods=['GET'])\n",
    "def hello():\n",
    "    return jsonify({\"message\": \"Hello, World!\"})\n",
    "\n",
    "if __name__ == '__main__':\n",
    "    app.run(debug=True)"
   ]
  },
  {
   "cell_type": "markdown",
   "id": "39986bef",
   "metadata": {},
   "source": [
    "To test:\n",
    "1. Save the code as `app.py`.\n",
    "2. Run `python app.py`.\n",
    "3. Visit `http://localhost:8000/docs` to test the endpoint interactively or use `curl http://localhost:8000/hello` to see `{\"message\": \"Hello, World!\"}`.\n",
    "4. The Pydantic `Message` model ensures the response adheres to the defined structure.\n",
    "\n",
    "This example shows how FastAPI combines simplicity, type safety, and automatic documentation for efficient API development."
   ]
  },
  {
   "cell_type": "markdown",
   "id": "95b69ac5",
   "metadata": {},
   "source": [
    "# Differences Between Flask, FastAPI, and REST APIs"
   ]
  },
  {
   "cell_type": "markdown",
   "id": "a32ac3e4",
   "metadata": {},
   "source": [
    "## REST APIs\n",
    "- **Definition**: REST (Representational State Transfer) is an **architectural style**, not a framework. It defines principles for designing web APIs (stateless, resource-based, using HTTP methods).\n",
    "- **Role**: Both Flask and FastAPI can implement RESTful APIs by following REST principles (e.g., using GET for retrieval, POST for creation).\n",
    "- **Key Point**: REST is the design pattern, while Flask and FastAPI are tools to build APIs adhering to it."
   ]
  },
  {
   "cell_type": "markdown",
   "id": "8aed7247",
   "metadata": {},
   "source": [
    "## Flask vs. FastAPI\n",
    "- **Flask**:\n",
    "  - **Nature**: Synchronous, lightweight Python framework.\n",
    "  - **Strengths**: Simple to use, minimal setup, ideal for beginners and quick prototypes.\n",
    "  - **Weaknesses**: \n",
    "    - Lacks built-in async support, less efficient for high-traffic apps.\n",
    "    - Manual documentation (no auto-generated Swagger UI).\n",
    "    - No built-in data validation; requires additional libraries.\n",
    "  - **Example**: A small API for a blog with basic GET/POST endpoints.\n",
    "- **FastAPI**:\n",
    "  - **Nature**: Asynchronous, modern Python framework with type hints.\n",
    "  - **Strengths**: \n",
    "    - High performance due to async/await support, ideal for heavy traffic.\n",
    "    - Auto-generates interactive docs (Swagger UI).\n",
    "    - Built-in data validation using Pydantic models.\n",
    "  - **Weaknesses**: Slightly steeper learning curve due to type hints and async concepts.\n",
    "  - **Example**: A real-time chat API handling multiple concurrent users."
   ]
  },
  {
   "cell_type": "markdown",
   "metadata": {},
   "source": [
    "## Usage Scenarios\n",
    "- **Flask**: Best for **quick MVPs** (Minimum Viable Products) or small projects where simplicity is key. Example: A prototype for a to-do list API.\n",
    "- **FastAPI**: Ideal for **scalable, real-time applications** requiring high performance or automatic validation/docs. Example: A production API for an e-commerce platform with heavy user traffic.\n",
    "- **REST**: The design pattern for both, ensuring standardized, scalable, and predictable APIs. Use REST principles in Flask or FastAPI to structure endpoints (e.g., `/users` for user data, `/orders` for orders)."
   ]
  },
  {
   "cell_type": "markdown",
   "metadata": {},
   "source": [
    " # 🌟 Three Simple Coding Tasks for API Development"
   ]
  },
  {
   "cell_type": "markdown",
   "id": "9ced47be",
   "metadata": {},
   "source": [
    "## Task 1: Build a Basic RESTful API in Flask\n",
    "**Objective**: Create a Flask API with GET and POST endpoints to manage a to-do list stored in memory.\n",
    "\n",
    "**Requirements**:\n",
    "- **GET /todos**: Return a list of all to-do items.\n",
    "- **POST /todos**: Add a new to-do item with a `task` field in the request body.\n",
    "- Store to-do items in a list (e.g., `[{\"id\": 1, \"task\": \"Buy groceries\"}]`) in memory.\n",
    "- Return JSON responses with appropriate status codes (e.g., 200 OK, 400 Bad Request).\n",
    "- Test using curl or a browser."
   ]
  },
  {
   "cell_type": "markdown",
   "id": "3c9bca4c",
   "metadata": {},
   "source": [
    "## Task 2: Rewrite Task 1 in FastAPI with Type Hints\n",
    "**Objective**: Rewrite the Flask API from Task 1 using FastAPI, adding type hints and testing via auto-generated docs.\n",
    "\n",
    "**Requirements**:\n",
    "- **GET /todos**: Return the list of to-do items.\n",
    "- **POST /todos**: Add a new to-do with a `task` field, using a Pydantic model for validation.\n",
    "- Use type hints and Pydantic for data validation.\n",
    "- Store to-dos in memory (same structure as Task 1).\n",
    "- Test using FastAPI’s Swagger UI at `/docs`."
   ]
  },
  {
   "cell_type": "markdown",
   "id": "64507049",
   "metadata": {},
   "source": [
    "## Task 3: Extend Either API with Authentication and DELETE Endpoint\n",
    "**Objective**: Extend the Flask or FastAPI to-do API with a simple API key authentication and a DELETE endpoint.\n",
    "\n",
    "**Requirements**:\n",
    "- Add a simple **API key check** (e.g., check for a header `X-API-Key: secret`).\n",
    "- **DELETE /todos/{id}**: Remove a to-do item by its ID.\n",
    "- Return appropriate status codes (e.g., 404 if ID not found, 401 for invalid API key).\n",
    "- Test using curl or Postman."
   ]
  },
  {
   "cell_type": "markdown",
   "id": "549bcb4e",
   "metadata": {},
   "source": [
    "---"
   ]
  },
  {
   "cell_type": "markdown",
   "id": "9f0e53fd",
   "metadata": {},
   "source": [
    "### ✨ For my lovely fellows ✨\n",
    "\n",
    "As we complete our final assignment together, I want to take a moment to reflect on this incredible journey. It has been a true pleasure to work with each of you.  No matter where life takes you next, know that I am always here if you need me. You are all amazing and inspiring individuals, and you will forever hold a special place in my heart.\n",
    "\n",
    "All the best for your future! 🌟"
   ]
  }
 ],
 "metadata": {
  "kernelspec": {
   "display_name": "Python 3",
   "language": "python",
   "name": "python3"
  },
  "language_info": {
   "name": "python",
   "version": "3.11.0"
  }
 },
 "nbformat": 4,
 "nbformat_minor": 5
}
