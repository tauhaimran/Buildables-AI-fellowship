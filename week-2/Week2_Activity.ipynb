{
 "cells": [
  {
   "cell_type": "markdown",
   "id": "9f546431",
   "metadata": {},
   "source": [
    "\n",
    "**Tauha Imran** | _Buildables AI Fellowship – Week 2_  \n",
    "\n",
    "[LinkedIn](https://www.linkedin.com/in/tauha-imran-6185b3280/) · [GitHub](https://github.com/tauhaimran) · [Portfolio](https://tauhaimran.github.io/)  \n",
    "\n",
    "---"
   ]
  },
  {
   "cell_type": "markdown",
   "id": "f3aa8f49",
   "metadata": {},
   "source": [
    "### Assignment 1: LLM Understanding\n",
    "\n",
    "* Write a short note (3–4 sentences) explaining the difference between **encoder-only, decoder-only, and encoder-decoder LLMs**.\n",
    "\n",
    "Encoder-only models focus on understanding input text by creating contextual embeddings (good for classification or sentiment analysis).\n",
    "Decoder-only models generate text autoregressively, predicting the next token (good for text completion or chatbots).\n",
    "Encoder-decoder models first encode input into a representation, then decode it into output (good for translation or summarization).\n",
    "\n",
    "Example usage:\n",
    "\n",
    "Encoder-only: BERT → Sentiment analysis\n",
    "\n",
    "Decoder-only: GPT-3 → Story generation\n",
    "\n",
    "Encoder-decoder: T5 → Text summarization\n",
    "\n",
    "---\n"
   ]
  },
  {
   "cell_type": "markdown",
   "id": "63222cd6",
   "metadata": {},
   "source": [
    "### Assignment 2: STT/TTS Exploration\n",
    "\n",
    "* Find **one STT model** and **one TTS model** (other than Whisper/Google).\n",
    "* Write down:\n",
    "  * What it does.\n",
    "  * One possible application.\n",
    "\n",
    "STT Model: DeepSpeech (Mozilla)\n",
    "\n",
    "What it does: Converts spoken audio into written text using RNN-based acoustic and language models.\n",
    "\n",
    "Application: Transcribing lectures or meetings into text.\n",
    "\n",
    "TTS Model: Tacotron 2 (Google)\n",
    "\n",
    "What it does: Generates natural-sounding speech from text by combining a sequence-to-sequence model with a vocoder.\n",
    "\n",
    "Application: Creating realistic voice assistants or audiobook narration.\n",
    "\n",
    "---"
   ]
  },
  {
   "cell_type": "markdown",
   "id": "51d43cc5",
   "metadata": {},
   "source": []
  }
 ],
 "metadata": {
  "language_info": {
   "name": "python"
  }
 },
 "nbformat": 4,
 "nbformat_minor": 5
}
