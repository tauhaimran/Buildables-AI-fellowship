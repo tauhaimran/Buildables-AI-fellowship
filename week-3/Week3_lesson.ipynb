{
 "cells": [
  {
   "cell_type": "markdown",
   "id": "326819b3",
   "metadata": {},
   "source": [
    "# **🚀 This assignment will be your 1st month Project**"
   ]
  },
  {
   "cell_type": "markdown",
   "id": "7c17a106",
   "metadata": {},
   "source": [
    "But first i want you to give me a recap of your learning"
   ]
  },
  {
   "cell_type": "markdown",
   "id": "e344fae3",
   "metadata": {},
   "source": [
    "## **Give a recap of notebook 1**\n",
    "\n",
    "👉"
   ]
  },
  {
   "cell_type": "markdown",
   "id": "0d9ec9bc",
   "metadata": {},
   "source": [
    "## **Give a recap of notebook 2**\n",
    "\n",
    "👉"
   ]
  },
  {
   "cell_type": "markdown",
   "id": "21ab407b",
   "metadata": {},
   "source": [
    "## **Give a recap of notebook 3**\n",
    "\n",
    "👉"
   ]
  },
  {
   "cell_type": "markdown",
   "id": "fa076681",
   "metadata": {},
   "source": [
    "# 📚 Chatbot Development Project – Guideline\n",
    "\n",
    "Your task is to **design, justify, and build a fully functional chatbot** using **Groq LLMs**. Follow the steps below carefully and document every choice you make.\n",
    "\n",
    "## **1. Choose a Use Case**\n",
    "\n",
    "* **Pick a real-world problem** that a chatbot can solve.\n",
    "  Examples:\n",
    "\n",
    "  * Customer support assistant for a local business.\n",
    "  * Mental wellness daily check-in bot.\n",
    "  * Educational Q\\&A bot for a subject (math, history, etc.).\n",
    "  * Travel planner bot that recommends itineraries.\n",
    "\n",
    "**What to do:**\n",
    "\n",
    "* Write a short paragraph explaining **why you chose this use case**.\n",
    "* Identify **target users** (who will use it) and **expected benefits**.\n",
    "* List **limitations** (what it cannot do).\n",
    "\n",
    "## **2. Justify Your Choice**\n",
    "\n",
    "Answer these questions clearly:\n",
    "\n",
    "* Why is this problem worth solving with a chatbot?\n",
    "* How does a chatbot improve the experience compared to a website, app, or human support?\n",
    "* What specific tasks will your chatbot perform?\n",
    "\n",
    "## **3. Select the LLM (Use Groq)**\n",
    "\n",
    "* Groq provides **fast inference** and supports models like **Llama 3, Mixtral, Gemma**.\n",
    "\n",
    "**What to do:**\n",
    "\n",
    "* Research which Groq-supported model you want to use (e.g., `llama3-8b`, `mixtral-8x7b`).\n",
    "* Explain **why this model fits your use case**:\n",
    "\n",
    "  * Size (smaller models are cheaper/faster, bigger ones are smarter).\n",
    "  * Language support (if you need multilingual responses).\n",
    "  * Speed requirements (real-time response is important for chat).\n",
    "\n",
    "## **4. Design the Conversation Flow**\n",
    "\n",
    "Before you write any code, plan how the chatbot will talk.\n",
    "\n",
    "**What to do:**\n",
    "\n",
    "* Write **sample user inputs** and **expected responses**.\n",
    "* Decide how your chatbot will handle:\n",
    "\n",
    "  * Unknown questions (fallback response).\n",
    "  * Greeting and goodbye messages.\n",
    "  * Context memory (should it remember previous messages?).\n",
    "\n",
    "## **5. Choose a Prompting Technique**\n",
    "\n",
    "Prompting is how you tell the model what to do.\n",
    "\n",
    "**Examples of techniques:**\n",
    "\n",
    "    * **Zero-shot prompting:** No examples, just direct instructions.\n",
    "    * **Few-shot prompting:** Give 2–3 examples of input-output pairs so the model learns the pattern.\n",
    "    * **Chain-of-thought prompting:** Ask the model to explain its reasoning step by step (for reasoning-heavy tasks).\n",
    "    * **System prompt design:** Set the \"persona\" of the chatbot (friendly teacher, expert advisor, etc.).\n",
    "\n",
    "**What to do:**\n",
    "\n",
    "    * Clearly mention **which prompting technique(s) you used**.\n",
    "    * Justify your choice — why was this the best method for your use case?\n",
    "    * Show a sample of your actual **prompt template** (system + user message).\n",
    "\n",
    "## **6. (Optional) Add a Frontend**\n",
    "\n",
    "* Create a simple web interface (Flask or Streamlit) so others can try your chatbot.\n",
    "* Bonus points if you make it visually appealing and user-friendly.\n"
   ]
  },
  {
   "cell_type": "markdown",
   "id": "e39c1794",
   "metadata": {},
   "source": []
  }
 ],
 "metadata": {
  "language_info": {
   "name": "python"
  }
 },
 "nbformat": 4,
 "nbformat_minor": 5
}
